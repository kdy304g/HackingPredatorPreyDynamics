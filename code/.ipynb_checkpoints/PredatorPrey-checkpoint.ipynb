{
 "cells": [
  {
   "cell_type": "code",
   "execution_count": null,
   "metadata": {},
   "outputs": [],
   "source": [
    "# Results Generator for this project"
   ]
  },
  {
   "cell_type": "code",
   "execution_count": null,
   "metadata": {},
   "outputs": [],
   "source": [
    "import random\n",
    "\n",
    "from mesa import Agent\n",
    "\n",
    "\n",
    "class Animal(Agent):\n",
    "\n",
    "    grid = None\n",
    "    x = None\n",
    "    y = None\n",
    "    moore = True\n",
    "\n",
    "    def __init__(self, pos, model, diagonal=True):\n",
    "        '''\n",
    "        grid: The MultiGrid object in which the agent lives.\n",
    "        x: The agent's current x coordinate\n",
    "        y: The agent's current y coordinate\n",
    "        diagonal: If True, may move in all 8 directions.\n",
    "        '''\n",
    "        super().__init__(pos, model)\n",
    "        self.pos = pos\n",
    "        self.diagonal = diagonal\n",
    "\n",
    "    def random_move(self):\n",
    "        # Pick the next cell from the adjacent cells.\n",
    "        next_moves = self.model.grid.get_neighborhood(self.pos, self.moore, True)\n",
    "        next_move = random.choice(next_moves)\n",
    "        self.model.grid.move_agent(self, next_move)"
   ]
  }
 ],
 "metadata": {
  "kernelspec": {
   "display_name": "Python 3",
   "language": "python",
   "name": "python3"
  },
  "language_info": {
   "codemirror_mode": {
    "name": "ipython",
    "version": 3
   },
   "file_extension": ".py",
   "mimetype": "text/x-python",
   "name": "python",
   "nbconvert_exporter": "python",
   "pygments_lexer": "ipython3",
   "version": "3.7.3"
  }
 },
 "nbformat": 4,
 "nbformat_minor": 2
}
